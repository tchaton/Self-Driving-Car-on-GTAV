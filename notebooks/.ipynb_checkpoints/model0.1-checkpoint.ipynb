{
 "cells": [
  {
   "cell_type": "code",
   "execution_count": 42,
   "metadata": {
    "collapsed": false
   },
   "outputs": [
    {
     "name": "stdout",
     "output_type": "stream",
     "text": [
      "The autoreload extension is already loaded. To reload it, use:\n",
      "  %reload_ext autoreload\n"
     ]
    }
   ],
   "source": [
    "import tensorflow as tf\n",
    "%load_ext autoreload\n",
    "%autoreload 2\n",
    "import os\n",
    "import sys\n",
    "sys.path.append('../python_scripts/')\n",
    "import get_frames as gf\n",
    "from importlib import reload\n",
    "import matplotlib\n",
    "%matplotlib inline\n",
    "from matplotlib import pyplot as plt\n",
    "import PIL"
   ]
  },
  {
   "cell_type": "code",
   "execution_count": null,
   "metadata": {
    "collapsed": true
   },
   "outputs": [],
   "source": [
    "os.path.exists"
   ]
  },
  {
   "cell_type": "code",
   "execution_count": 27,
   "metadata": {
    "collapsed": false
   },
   "outputs": [],
   "source": [
    "reload(gf)\n",
    "dataset_number_frames = gf.get_dataset_number_frames()"
   ]
  },
  {
   "cell_type": "code",
   "execution_count": 38,
   "metadata": {
    "collapsed": false
   },
   "outputs": [
    {
     "data": {
      "text/plain": [
       "dict_keys(['../dataset/EXTRASUNNY/12/1496614796', '../dataset/FOGGY/0/1496619482', '../dataset/OVERCAST/8/1496616118', '../dataset/CLEARING/12/1496617680', '../dataset/CLEARING/8/1496617559', '../dataset/EXTRASUNNY/16/1496614916', '../dataset/CLOUDS/16/1496615637', '../dataset/CLOUDS/8/1496615397', '../dataset/CLOUDS/20/1496615757', '../dataset/CLEAR/4/1496613835', '../dataset/CLEAR/0/1496613715', '../dataset/CLEAR/8/1496613955', '../dataset/THUNDER/12/1496618401', '../dataset/EXTRASUNNY/4/1496614556', '../dataset/CLEARING/16/1496617800', '../dataset/CLEAR/16/1496614195', '../dataset/CLOUDS/12/1496615517', '../dataset/SMOG/12/1496619122', '../dataset/FOGGY/4/1496619603', '../dataset/CLEARING/0/1496617319', '../dataset/EXTRASUNNY/8/1496614676', '../dataset/OVERCAST/12/1496616238', '../dataset/OVERCAST/20/1496616478', '../dataset/CLEARING/20/1496617920', '../dataset/CLEARING/4/1496617439', '../dataset/THUNDER/16/1496618521', '../dataset/RAIN/0/1496616598', '../dataset/SMOG/0/1496618761', '../dataset/RAIN/16/1496617079', '../dataset/OVERCAST/0/1496615877', '../dataset/THUNDER/0/1496618040', '../dataset/CLOUDS/0/1496615156', '../dataset/RAIN/20/1496617199', '../dataset/SMOG/4/1496618881', '../dataset/EXTRASUNNY/0/1496614435', '../dataset/CLOUDS/4/1496615276', '../dataset/SMOG/16/1496619242', '../dataset/EXTRASUNNY/20/1496615036', '../dataset/THUNDER/4/1496618160', '../dataset/SMOG/8/1496619002', '../dataset/RAIN/12/1496616959', '../dataset/THUNDER/8/1496618281', '../dataset/RAIN/4/1496616718', '../dataset/OVERCAST/16/1496616358', '../dataset/OVERCAST/4/1496615998', '../dataset/SMOG/20/1496619362', '../dataset/THUNDER/20/1496618641', '../dataset/RAIN/8/1496616839', '../dataset/CLEAR/20/1496614315', '../dataset/CLEAR/12/1496614075'])"
      ]
     },
     "execution_count": 38,
     "metadata": {},
     "output_type": "execute_result"
    }
   ],
   "source": [
    "dataset_number_frames.keys()"
   ]
  },
  {
   "cell_type": "code",
   "execution_count": 48,
   "metadata": {
    "collapsed": false
   },
   "outputs": [],
   "source": [
    "reload(gf)\n",
    "clear_0_frames_path = gf.get_path_to_frames(dataset_number_frames,'../dataset/EXTRASUNNY/12/1496614796')"
   ]
  },
  {
   "cell_type": "code",
   "execution_count": 69,
   "metadata": {
    "collapsed": false
   },
   "outputs": [
    {
     "name": "stdout",
     "output_type": "stream",
     "text": [
      "{'reward': -0.02331864833831787, 'brake': 0.0, 'location': [2464.494384765625, 5115.50634765625, 46.291839599609375], 'vehicles': [], 'throttle': 0.0, 'trafficSigns': None, 'speed': 0.3222384750843048, 'peds': [{'heading': 94.22396850585938, 'BLL': [-69.205322265625, 70.2333984375, 26.757904052734375], 'speed': 2.127650022506714, 'FUR': [-69.371337890625, 71.677734375, 27.4049072265625], 'classID': 11}, {'heading': 176.78326416015625, 'BLL': [-110.530517578125, 53.42431640625, 29.314620971679688], 'speed': 10.737646102905273, 'FUR': [-112.107666015625, 52.58544921875, 30.073745727539062], 'classID': 11}, {'heading': 225.15823364257812, 'BLL': [-65.589111328125, 50.84228515625, 1.1809043884277344], 'speed': 1.0251538753509521, 'FUR': [-65.381591796875, 49.35986328125, 2.0206565856933594], 'classID': 11}, {'heading': 30.158485412597656, 'BLL': [-72.279296875, -22.11279296875, 28.341888427734375], 'speed': 7.796443462371826, 'FUR': [-71.70458984375, -20.42138671875, 29.10101318359375], 'classID': 11}, {'heading': 201.7388916015625, 'BLL': [-41.4033203125, 7.76416015625, -0.6147804260253906], 'speed': 0.0, 'FUR': [-40.83544921875, 7.14111328125, 0.4701118469238281], 'classID': 11}, {'heading': 175.01065063476562, 'BLL': [-62.192138671875, 13.87255859375, 28.28807830810547], 'speed': 4.079423904418945, 'FUR': [-63.279541015625, 13.67919921875, 28.935081481933594], 'classID': 11}, {'heading': 186.39321899414062, 'BLL': [-67.110107421875, -9.90625, 26.609115600585938], 'speed': 2.1266636848449707, 'FUR': [-68.558837890625, -9.7900390625, 27.256118774414062], 'classID': 11}, {'heading': 318.8499755859375, 'BLL': [-83.5732421875, 61.13134765625, 2.907299041748047], 'speed': 0.0, 'FUR': [-84.41162109375, 61.03759765625, 3.992298126220703], 'classID': 11}], 'time': 12, 'yawRate': -1.6170696975586263, 'steering': -5.170791333358575e-42, 'frame': array([[[  0,   0,   0],\n",
      "        [215, 131,  24],\n",
      "        [215, 131,  24],\n",
      "        ..., \n",
      "        [215, 131,  24],\n",
      "        [215, 131,  24],\n",
      "        [215, 131,  24]],\n",
      "\n",
      "       [[  0,   0,   0],\n",
      "        [215, 131,  24],\n",
      "        [255, 255, 255],\n",
      "        ..., \n",
      "        [255, 255, 255],\n",
      "        [255, 255, 255],\n",
      "        [255, 255, 255]],\n",
      "\n",
      "       [[  0,   0,   0],\n",
      "        [215, 131,  24],\n",
      "        [255, 255, 255],\n",
      "        ..., \n",
      "        [255, 255, 255],\n",
      "        [255, 255, 255],\n",
      "        [255, 255, 255]],\n",
      "\n",
      "       ..., \n",
      "       [[  0,   0,   0],\n",
      "        [215, 131,  24],\n",
      "        [158, 168, 172],\n",
      "        ..., \n",
      "        [164, 177, 186],\n",
      "        [158, 172, 180],\n",
      "        [148, 164, 170]],\n",
      "\n",
      "       [[  0,   0,   0],\n",
      "        [215, 131,  24],\n",
      "        [152, 162, 168],\n",
      "        ..., \n",
      "        [180, 190, 193],\n",
      "        [179, 190, 196],\n",
      "        [177, 188, 197]],\n",
      "\n",
      "       [[  0,   0,   0],\n",
      "        [215, 131,  24],\n",
      "        [158, 169, 179],\n",
      "        ..., \n",
      "        [174, 184, 191],\n",
      "        [176, 186, 192],\n",
      "        [180, 189, 193]]], dtype=uint8)}\n"
     ]
    }
   ],
   "source": [
    "reload(gf)\n",
    "dict_keys = ['frame','speed','throttle','steering','brake']\n",
    "for path in clear_0_frames_path[:5]:\n",
    "    frame = gf.get_frame(path)\n",
    "    print(frame['speed'],frame['throttle'],frame['steering'],frame['brake'])"
   ]
  },
  {
   "cell_type": "code",
   "execution_count": 51,
   "metadata": {
    "collapsed": false
   },
   "outputs": [
    {
     "data": {
      "text/plain": [
       "True"
      ]
     },
     "execution_count": 51,
     "metadata": {},
     "output_type": "execute_result"
    }
   ],
   "source": [
    "os.path.exists('../dataset/EXTRASUNNY/12/1496614796/1.pz')"
   ]
  },
  {
   "cell_type": "code",
   "execution_count": null,
   "metadata": {
    "collapsed": true
   },
   "outputs": [],
   "source": []
  }
 ],
 "metadata": {
  "anaconda-cloud": {},
  "kernelspec": {
   "display_name": "Python [conda root]",
   "language": "python",
   "name": "conda-root-py"
  },
  "language_info": {
   "codemirror_mode": {
    "name": "ipython",
    "version": 3
   },
   "file_extension": ".py",
   "mimetype": "text/x-python",
   "name": "python",
   "nbconvert_exporter": "python",
   "pygments_lexer": "ipython3",
   "version": "3.5.2"
  }
 },
 "nbformat": 4,
 "nbformat_minor": 2
}
