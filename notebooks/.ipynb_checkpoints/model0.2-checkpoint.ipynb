{
 "cells": [
  {
   "cell_type": "code",
   "execution_count": 59,
   "metadata": {
    "collapsed": false
   },
   "outputs": [
    {
     "name": "stderr",
     "output_type": "stream",
     "text": [
      "D:\\Software\\Anaconda3\\lib\\site-packages\\sklearn\\cross_validation.py:44: DeprecationWarning: This module was deprecated in version 0.18 in favor of the model_selection module into which all the refactored classes and functions are moved. Also note that the interface of the new CV iterators are different from that of this module. This module will be removed in 0.20.\n",
      "  \"This module will be removed in 0.20.\", DeprecationWarning)\n"
     ]
    }
   ],
   "source": [
    "import os\n",
    "import sys\n",
    "sys.path.append('../python_scripts/')\n",
    "import keras\n",
    "import tensorflow as tf\n",
    "import get_frames as gf\n",
    "import model_utils as mu\n",
    "import model_generator as mg\n",
    "import matplotlib\n",
    "%matplotlib inline\n",
    "from matplotlib import pyplot as plt\n",
    "from importlib import reload as rd\n",
    "from sklearn.preprocessing import StandardScaler\n",
    "import numpy as np\n",
    "from utils_scaler import *"
   ]
  },
  {
   "cell_type": "markdown",
   "metadata": {},
   "source": [
    "<h1> GLOBAL VARIABLE </h1>"
   ]
  },
  {
   "cell_type": "code",
   "execution_count": 60,
   "metadata": {
    "collapsed": true
   },
   "outputs": [],
   "source": [
    "DATASET_PATH = '../dataset/'\n",
    "kernel = [[1,1],[1,1]]"
   ]
  },
  {
   "cell_type": "code",
   "execution_count": 62,
   "metadata": {
    "collapsed": false
   },
   "outputs": [
    {
     "ename": "SyntaxError",
     "evalue": "'return' outside function (<ipython-input-62-0d72e2350e4a>, line 215)",
     "output_type": "error",
     "traceback": [
      "\u001b[0;36m  File \u001b[0;32m\"<ipython-input-62-0d72e2350e4a>\"\u001b[0;36m, line \u001b[0;32m215\u001b[0m\n\u001b[0;31m    return kernel / kernel.sum()\u001b[0m\n\u001b[0m                                ^\u001b[0m\n\u001b[0;31mSyntaxError\u001b[0m\u001b[0;31m:\u001b[0m 'return' outside function\n"
     ]
    }
   ],
   "source": [
    "def scaler(X):\n",
    "    X = np.clip(X - np.mean(X),0,255)\n",
    "    X = np.clip(X/np.std(X),0,255)\n",
    "    print(np.mean(X),np.std(X))\n",
    "    return X\n",
    "import numpy as np\n",
    "from scipy.signal.signaltools import convolve2d\n",
    "from scipy.signal.windows import gaussian\n",
    "\n",
    "def lcn(X, kernel):\n",
    "    \"\"\"Apply Local Contrast Normalization (LCN) to an array.\n",
    "    Parameters\n",
    "    ----------\n",
    "    X : np.ndarray, ndim=2\n",
    "        Input representation.\n",
    "    kernel : np.ndarray\n",
    "        Convolution kernel (should be roughly low-pass).\n",
    "    Returns\n",
    "    -------\n",
    "    Z : np.ndarray\n",
    "        The processed output.\n",
    "    \"\"\"\n",
    "    if X.ndim != 2:\n",
    "        raise ValueError(\"Input must be a 2D matrix.\")\n",
    "    Xh = convolve2d(X, kernel, mode='same', boundary='symm')\n",
    "    V = X - Xh\n",
    "    S = np.sqrt(convolve2d(np.power(V, 2.0),\n",
    "                kernel, mode='same', boundary='symm'))\n",
    "    S2 = np.zeros(S.shape) + S.mean()\n",
    "    S2[S > S.mean()] = S[S > S.mean()]\n",
    "    if S2.sum() == 0.0:\n",
    "        S2 += 1.0\n",
    "    return V / S2\n",
    "\n",
    "\n",
    "def lcn_v2(X, kernel, mean_scalar=1.0):\n",
    "    \"\"\"Apply an alternative version of local contrast normalization (LCN) to an\n",
    "    array.\n",
    "    Parameters\n",
    "    ----------\n",
    "    X : np.ndarray, ndim=2\n",
    "        Input representation.\n",
    "    kernel : np.ndarray\n",
    "        Convolution kernel (should be roughly low-pass).\n",
    "    Returns\n",
    "    -------\n",
    "    Z : np.ndarray\n",
    "        The processed output.\n",
    "    \"\"\"\n",
    "    if X.ndim != 2:\n",
    "        raise ValueError(\"Input must be a 2D matrix.\")\n",
    "    Xh = convolve2d(X, kernel, mode='same', boundary='symm')\n",
    "    V = X - Xh\n",
    "    S = np.sqrt(convolve2d(np.power(V, 2.0),\n",
    "                kernel, mode='same', boundary='symm'))\n",
    "    thresh = np.exp(np.log(S + np.power(2.0, -5)).mean(axis=-1))\n",
    "    S = S*np.greater(S - thresh.reshape(-1, 1), 0)\n",
    "    S += 1.0*np.equal(S, 0.0)\n",
    "    return V / S\n",
    "\n",
    "\n",
    "def lcn_mauch(X, kernel=None, rho=0):\n",
    "    \"\"\"Apply a version of local contrast normalization (LCN), inspired by\n",
    "    Mauch, Dixon (2009), \"Approximate Note Transcription...\".\n",
    "    Parameters\n",
    "    ----------\n",
    "    X : np.ndarray, ndim=2\n",
    "        Input representation.\n",
    "    kernel : np.ndarray\n",
    "        Convolution kernel (should be roughly low-pass).\n",
    "    rho : scalar\n",
    "        Scalar applied to the final output for heuristic range control.\n",
    "    Returns\n",
    "    -------\n",
    "    Z : np.ndarray\n",
    "        The processed output.\n",
    "    \"\"\"\n",
    "    if kernel is None:\n",
    "        dim0, dim1 = 15, 37\n",
    "        dim0_weights = np.hamming(dim0 * 2 + 1)[:dim0]\n",
    "        dim1_weights = np.hamming(dim1)\n",
    "        kernel = dim0_weights[:, np.newaxis] * dim1_weights[np.newaxis, :]\n",
    "\n",
    "    kernel /= kernel.sum()\n",
    "    Xh = convolve2d(X, kernel, mode='same', boundary='symm')\n",
    "    V = hwr(X - Xh)\n",
    "    S = np.sqrt(\n",
    "        convolve2d(np.power(V, 2.0), kernel, mode='same', boundary='symm'))\n",
    "    S2 = np.zeros(S.shape) + S.mean()\n",
    "    S2[S > S.mean()] = S[S > S.mean()]\n",
    "    if S2.sum() == 0.0:\n",
    "        S2 += 1.0\n",
    "    return V / S2**rho\n",
    "\n",
    "\n",
    "def highpass(X, kernel):\n",
    "    \"\"\"Produce a highpass kernel from its lowpass complement.\n",
    "    Parameters\n",
    "    ----------\n",
    "    X : np.ndarray, ndim=2\n",
    "        Input representation.\n",
    "    kernel : np.ndarray\n",
    "        Convolution kernel (should be roughly low-pass).\n",
    "    Returns\n",
    "    -------\n",
    "    Z : np.ndarray\n",
    "        The processed output.\n",
    "    \"\"\"\n",
    "    if X.ndim != 2:\n",
    "        raise ValueError(\"Input must be a 2D matrix.\")\n",
    "    Xh = convolve2d(X, kernel, mode='same', boundary='symm')\n",
    "    return X - Xh\n",
    "\n",
    "\n",
    "def local_l2norm(X, kernel):\n",
    "    \"\"\"Apply local l2-normalization over an input with a given kernel.\n",
    "    Parameters\n",
    "    ----------\n",
    "    X : np.ndarray, ndim=2\n",
    "        Input representation.\n",
    "    kernel : np.ndarray\n",
    "        Convolution kernel (should be roughly low-pass).\n",
    "    Returns\n",
    "    -------\n",
    "    Z : np.ndarray\n",
    "        The processed output.\n",
    "    \"\"\"\n",
    "    local_mag = np.sqrt(convolve2d(np.power(X, 2.0),\n",
    "                        kernel, mode='same', boundary='symm'))\n",
    "    local_mag = local_mag + 1.0*(local_mag == 0.0)\n",
    "    return X / local_mag\n",
    "\n",
    "\n",
    "def lcn_octaves(X, kernel):\n",
    "    \"\"\"Apply octave-varying contrast normalization to an input with a given\n",
    "    kernel.\n",
    "    Notes:\n",
    "    * This is the variant introduced in the LVCE Section of Chapter 5.\n",
    "    * This approach is painfully heuristic, and tuned for the dimensions used\n",
    "        in this work (36 bpo, 7 octaves).\n",
    "    Parameters\n",
    "    ----------\n",
    "    X : np.ndarray, ndim=2, shape[1]==252.\n",
    "        CQT representation, with 36 bins per octave and 252 filters.\n",
    "    kernel : np.ndarray\n",
    "        Convolution kernel (should be roughly low-pass).\n",
    "    Returns\n",
    "    -------\n",
    "    Z : np.ndarray\n",
    "        The processed output.\n",
    "    \"\"\"\n",
    "    if X.shape[-1] != 252:\n",
    "        raise ValueError(\n",
    "            \"Apologies, but this method is currently designed for input \"\n",
    "            \"representations with a last dimension of 252.\")\n",
    "    x_hp = highpass(X, kernel)\n",
    "    x_73 = local_l2norm(x_hp, np.hanning(73).reshape(1, -1))\n",
    "    x_37 = local_l2norm(x_hp, np.hanning(37).reshape(1, -1))\n",
    "    x_19 = local_l2norm(x_hp, np.hanning(19).reshape(1, -1))\n",
    "    x_multi = np.array([x_73, x_37, x_19]).transpose(1, 2, 0)\n",
    "    w = _create_triband_mask()**2.0\n",
    "    return (x_multi * w).sum(axis=-1)\n",
    "\n",
    "\n",
    "def _create_triband_mask():\n",
    "    \"\"\"Build a summation mask for the octaves defined in Chapter 5.\n",
    "    The resulting mask tensor looks (roughly) like the following, indexed by\n",
    "    the final axis:\n",
    "             __\n",
    "          0 |  \\__      |\n",
    "          1 |  /  \\_____|\n",
    "          2 |     /     |\n",
    "    Note: Again, this is admittedly ad hoc, and warrants attention in the\n",
    "    future.\n",
    "    Returns\n",
    "    -------\n",
    "    mask : np.ndarray, shape=(1, 252, 3)\n",
    "        Sine-tapered summation mask to smoothly blend three representations\n",
    "        with logarithmically increasing window widths.\n",
    "    \"\"\"\n",
    "    w = np.sin(np.pi*np.arange(36)/36.)\n",
    "    w_73 = np.zeros(252)\n",
    "    w_37 = np.zeros(252)\n",
    "    w_19 = np.zeros(252)\n",
    "\n",
    "    w_73[:18] = 1.0\n",
    "    w_73[18:36] = w[18:]\n",
    "\n",
    "    w_37[18:36] = w[:18]\n",
    "    w_37[36:72] = 1.0\n",
    "    w_37[72:90] = w[18:]\n",
    "\n",
    "    w_19[72:90] = w[:18]\n",
    "    w_19[90:] = 1.0\n",
    "    return np.array([w_73, w_37, w_19]).T.reshape(1, 252, 3)\n",
    "\n",
    "\n",
    "def create_kernel(dim0, dim1):\n",
    "    \"\"\"Create a two-dimensional LPF kernel, with a half-Hamming window along\n",
    "    the first dimension and a Gaussian along the second.\n",
    "    Parameters\n",
    "    ----------\n",
    "    dim0 : int\n",
    "        Half-Hamming window length.\n",
    "    dim1 : int\n",
    "        Gaussian window length.\n",
    "    Returns\n",
    "    -------\n",
    "    kernel : np.ndarray\n",
    "        The 2d LPF kernel.\n",
    "    \"\"\"\n",
    "    dim0_weights = np.hamming(dim0 * 2 + 1)[:dim0]\n",
    "    dim1_weights = gaussian(dim1, dim1 * 0.25, True)\n",
    "    kernel = dim0_weights[:, np.newaxis] * dim1_weights[np.newaxis, :]\n",
    "    return kernel / kernel.sum()"
   ]
  },
  {
   "cell_type": "markdown",
   "metadata": {},
   "source": [
    "<h1> CALL GENERATOR </h1>"
   ]
  },
  {
   "cell_type": "code",
   "execution_count": 54,
   "metadata": {
    "collapsed": false
   },
   "outputs": [
    {
     "ename": "NameError",
     "evalue": "name 'lcn' is not defined",
     "output_type": "error",
     "traceback": [
      "\u001b[0;31m---------------------------------------------------------------------------\u001b[0m",
      "\u001b[0;31mNameError\u001b[0m                                 Traceback (most recent call last)",
      "\u001b[0;32m<ipython-input-54-a8de8c29cffb>\u001b[0m in \u001b[0;36m<module>\u001b[0;34m()\u001b[0m\n\u001b[1;32m      1\u001b[0m \u001b[0mrd\u001b[0m\u001b[1;33m(\u001b[0m\u001b[0mgf\u001b[0m\u001b[1;33m)\u001b[0m\u001b[1;33m\u001b[0m\u001b[0m\n\u001b[1;32m      2\u001b[0m \u001b[1;32mfor\u001b[0m \u001b[0mX\u001b[0m\u001b[1;33m,\u001b[0m\u001b[0mY\u001b[0m \u001b[1;32min\u001b[0m \u001b[0mmg\u001b[0m\u001b[1;33m.\u001b[0m\u001b[0mSequentialWeatherGenerator\u001b[0m\u001b[1;33m(\u001b[0m\u001b[1;36m2\u001b[0m\u001b[1;33m,\u001b[0m\u001b[0mDATASET_PATH\u001b[0m\u001b[1;33m,\u001b[0m\u001b[0msize\u001b[0m\u001b[1;33m=\u001b[0m\u001b[1;33m(\u001b[0m\u001b[1;36m640\u001b[0m\u001b[1;33m,\u001b[0m\u001b[1;36m1280\u001b[0m\u001b[1;33m)\u001b[0m\u001b[1;33m)\u001b[0m\u001b[1;33m:\u001b[0m\u001b[1;33m\u001b[0m\u001b[0m\n\u001b[0;32m----> 3\u001b[0;31m     \u001b[0mZ\u001b[0m \u001b[1;33m=\u001b[0m \u001b[0mlcn\u001b[0m\u001b[1;33m(\u001b[0m\u001b[0mX\u001b[0m\u001b[1;33m,\u001b[0m\u001b[0mkernel\u001b[0m\u001b[1;33m=\u001b[0m\u001b[0mkernel\u001b[0m\u001b[1;33m)\u001b[0m\u001b[1;33m\u001b[0m\u001b[0m\n\u001b[0m\u001b[1;32m      4\u001b[0m     \u001b[1;32mfor\u001b[0m \u001b[0mi\u001b[0m\u001b[1;33m,\u001b[0m\u001b[0mx\u001b[0m \u001b[1;32min\u001b[0m \u001b[0menumerate\u001b[0m\u001b[1;33m(\u001b[0m\u001b[0mzip\u001b[0m\u001b[1;33m(\u001b[0m\u001b[0mX\u001b[0m\u001b[1;33m,\u001b[0m\u001b[0mZ\u001b[0m\u001b[1;33m)\u001b[0m\u001b[1;33m)\u001b[0m\u001b[1;33m:\u001b[0m\u001b[1;33m\u001b[0m\u001b[0m\n\u001b[1;32m      5\u001b[0m         \u001b[0mprint\u001b[0m\u001b[1;33m(\u001b[0m\u001b[0mY\u001b[0m\u001b[1;33m[\u001b[0m\u001b[0mi\u001b[0m\u001b[1;33m]\u001b[0m\u001b[1;33m)\u001b[0m\u001b[1;33m\u001b[0m\u001b[0m\n",
      "\u001b[0;31mNameError\u001b[0m: name 'lcn' is not defined"
     ]
    }
   ],
   "source": [
    "rd(gf)\n",
    "for X,Y in mg.SequentialWeatherGenerator(2,DATASET_PATH,size=(640,1280)):\n",
    "    Z = lcn(X,kernel=kernel)\n",
    "    for i,x in enumerate(zip(X,Z)):\n",
    "        print(Y[i])\n",
    "        plt.imshow(x[0])\n",
    "        #gf.extract_map(x)\n",
    "        plt.show()\n",
    "        plt.imshow(x[1])\n",
    "        #gf.extract_map(x)\n",
    "        plt.show()\n",
    "        plt.imshow(gf.extract_map(x[0]))\n",
    "        plt.show()\n",
    "    break"
   ]
  },
  {
   "cell_type": "markdown",
   "metadata": {},
   "source": [
    "<h1> CREATE MODEL </h1>"
   ]
  },
  {
   "cell_type": "code",
   "execution_count": 66,
   "metadata": {
    "collapsed": false
   },
   "outputs": [],
   "source": [
    "rd(mu)\n",
    "model = mu.get_model()"
   ]
  },
  {
   "cell_type": "code",
   "execution_count": 74,
   "metadata": {
    "collapsed": false
   },
   "outputs": [
    {
     "data": {
      "text/plain": [
       "<tf.Tensor 'Add_1:0' shape=(?, 10) dtype=float32>"
      ]
     },
     "execution_count": 74,
     "metadata": {},
     "output_type": "execute_result"
    }
   ],
   "source": [
    "rd(mu)\n",
    "mu.conv_net_SNN()"
   ]
  },
  {
   "cell_type": "code",
   "execution_count": null,
   "metadata": {
    "collapsed": true
   },
   "outputs": [],
   "source": []
  }
 ],
 "metadata": {
  "anaconda-cloud": {},
  "kernelspec": {
   "display_name": "Python [default]",
   "language": "python",
   "name": "python3"
  },
  "language_info": {
   "codemirror_mode": {
    "name": "ipython",
    "version": 3
   },
   "file_extension": ".py",
   "mimetype": "text/x-python",
   "name": "python",
   "nbconvert_exporter": "python",
   "pygments_lexer": "ipython3",
   "version": "3.5.2"
  }
 },
 "nbformat": 4,
 "nbformat_minor": 2
}
